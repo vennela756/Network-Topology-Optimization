{
  "nbformat": 4,
  "nbformat_minor": 0,
  "metadata": {
    "colab": {
      "name": "branch_and_bound.ipynb",
      "provenance": []
    },
    "kernelspec": {
      "name": "python3",
      "display_name": "Python 3"
    },
    "language_info": {
      "name": "python"
    }
  },
  "cells": [
    {
      "cell_type": "code",
      "metadata": {
        "id": "zoZUdqWlXVkn"
      },
      "source": [
        "import time\n",
        "import numpy as np\n",
        "import math\n",
        "import random\n",
        "from scipy.optimize import linprog"
      ],
      "execution_count": null,
      "outputs": []
    },
    {
      "cell_type": "code",
      "metadata": {
        "id": "NPXNkJjRYAmb"
      },
      "source": [
        "class network_top:\n",
        "  def __init__(self, num_cities,coordinates,b_vec):\n",
        "    self.num_cities = num_cities\n",
        "    self.coordinates = coordinates\n",
        "    self.b_vec=b_vec\n",
        "    self.distances()\n",
        "\n",
        "  def distances(self):\n",
        "    cij_mat=np.zeros((self.num_cities,self.num_cities))\n",
        "    for i in range(self.num_cities):\n",
        "      for j in range(self.num_cities):\n",
        "        cij_mat[i,j]=np.sqrt((self.coordinates[i,0]-self.coordinates[j,0])**2+(self.coordinates[i,1]-self.coordinates[j,1])**2)\n",
        "    self.cij=cij_mat\n",
        "\n",
        "def lhs_constraints(n):\n",
        "  #n - number of cities\n",
        "  a = []\n",
        "\n",
        "  ### flow i,j < n-1 ###\n",
        "  for i in range(n):\n",
        "    for j in range(n):\n",
        "      ineqn_mat=np.zeros((n,n))\n",
        "      ineqn_mat[i,j]=1\n",
        "      a.append(ineqn_mat.flatten())\n",
        "  \n",
        "  ###  sigma(j) flow i,j - sigma(j) flow j,i <= bi ###\n",
        "  for i in range(n):\n",
        "    eq_mat = np.zeros((n,n))\n",
        "    eq_mat[:,i] = -1*np.ones(n)\n",
        "    eq_mat[i,:] = np.ones(n)\n",
        "    eq_mat[i,i] = 0\n",
        "    constr=eq_mat.flatten()\n",
        "    constr = constr.tolist()\n",
        "    a.append(constr)\n",
        "  \n",
        "  ##  sigma flow i,j - sigma flow j,i >= bi ###\n",
        "  for i in range(n):\n",
        "    eq_mat = np.zeros((n,n))\n",
        "    eq_mat[:,i] = np.ones(n)\n",
        "    eq_mat[i,:] = -1*np.ones(n)\n",
        "    eq_mat[i,i] = 0\n",
        "    constr=eq_mat.flatten()\n",
        "    constr = constr.tolist()\n",
        "    a.append(constr)\n",
        "\n",
        "  ### flow i,i <= 0 ###\n",
        "  for i in range(n):\n",
        "    ineqn_mat=np.zeros((n,n)) \n",
        "    ineqn_mat[i,i]=1\n",
        "    constr2=ineqn_mat.flatten()\n",
        "    constr2 = constr2.tolist()\n",
        "    a.append(constr2)\n",
        "\n",
        "  x = np.asarray(a)\n",
        "  return x\n",
        "\n",
        "def rhs_constraints(demand,n):\n",
        "  b = []\n",
        "\n",
        "  ### flow i,j < n-1 ###\n",
        "  for i in range(n*n):\n",
        "    b.append(n-1)\n",
        "    \n",
        "  ###  sigma(j) flow i,j - sigma(j) flow j,i <= bi ###\n",
        "  for i in demand:\n",
        "    b.append(i)\n",
        "\n",
        "  ### sigma flow i,j - sigma flow j,i >= bi ###\n",
        "  for i in demand:\n",
        "    b.append(-i)\n",
        "\n",
        "  ### flow i,i <= 0 ###\n",
        "  for i in range(n):\n",
        "    b.append(0)\n",
        "\n",
        "  x = np.asarray(b)\n",
        "  return x"
      ],
      "execution_count": null,
      "outputs": []
    },
    {
      "cell_type": "code",
      "metadata": {
        "id": "VULwUBT-TIcu"
      },
      "source": [
        "import networkx as nx \n",
        "import matplotlib.pyplot as plt \n",
        "   \n",
        "class GraphVisualization: \n",
        "   \n",
        "    def __init__(self): \n",
        "        self.visual = [] \n",
        "          \n",
        "    def addEdge(self, a, b, c): \n",
        "        temp = (a, b, {'weight': c})\n",
        "        self.visual.append(temp) \n",
        "          \n",
        "    def visualize(self): \n",
        "        G = nx.Graph() \n",
        "        G.add_edges_from(self.visual) \n",
        "    \n",
        "        pos = nx.spring_layout(G)\n",
        "        nx.draw_networkx_nodes(G,pos,node_size=700)\n",
        "        nx.draw_networkx_labels(G,pos,font_size=20,font_family='sans-serif')\n",
        "        nx.draw_networkx_edges(G,pos,edgelist=self.visual, width=6)\n",
        "        labels = nx.get_edge_attributes(G,'weight')\n",
        "        nx.draw_networkx_edge_labels(G,pos,edge_labels=labels)\n",
        "        plt.figure(1,figsize=(25,25))\n",
        "        plt.show()\n",
        "def plot(num_cities,weights,flow_mat):\n",
        "    edges = flow_mat>0\n",
        "    G = GraphVisualization()\n",
        "    for i in range(num_cities):\n",
        "      for j in range(num_cities):\n",
        "        if(i!=j):\n",
        "          if(edges[i][j]):\n",
        "            G.addEdge(i,j,weights[i][j]*flow_mat[i][j])\n",
        "    G.visualize()"
      ],
      "execution_count": null,
      "outputs": []
    },
    {
      "cell_type": "code",
      "metadata": {
        "id": "F10BQU3kXWfU"
      },
      "source": [
        "class Node:\n",
        "    \"\"\"\n",
        "    This class models a node in the branch and bound algorithm.\n",
        "    flow_var: the solution in node\n",
        "    obj_func_val: the obj value of node\n",
        "    \"\"\"\n",
        "    def __init__(self, flow_var = None, obj_func_val=None):\n",
        "      self.flow_var = flow_var\n",
        "      self.obj_func_val = obj_func_val"
      ],
      "execution_count": null,
      "outputs": []
    },
    {
      "cell_type": "code",
      "metadata": {
        "id": "5iT9_kaMXWo1"
      },
      "source": [
        "def isInt(list1):\n",
        "  indices = []\n",
        "  for i in range(len(list1)):\n",
        "    if abs(list1[i]-round(list1[i])) > 0.00001:\n",
        "      return i\n",
        "    else:\n",
        "      list1[i] = round(list1[i])\n",
        "\n",
        "def LeftCons(no_of_var, index): #returns a list\n",
        "  temp = [0] * no_of_var\n",
        "  temp[index] = 1\n",
        "  return temp\n",
        "\n",
        "def RightCons(no_of_var, index): #returns a list\n",
        "  temp = [0] * no_of_var\n",
        "  temp[index] = -1\n",
        "  return temp"
      ],
      "execution_count": null,
      "outputs": []
    },
    {
      "cell_type": "code",
      "metadata": {
        "id": "QTJTkfqAXdun"
      },
      "source": [
        "def bab(A,b,c,prev_flow_val,trac_val, min_or_max): #trac_val tracks the minimum cost while traversing the tree \n",
        "      global total\n",
        "      global list1\n",
        "      global iter\n",
        "      global list2\n",
        "\n",
        "      iter += 1\n",
        "      n = 1\n",
        "      if(min_or_max == \"max\"):\n",
        "        n = -1\n",
        "      #t1 = time.time()\n",
        "      res = linprog(n*c, A_ub=A, b_ub=b)   #simplex method \n",
        "      #print(res.x,res.fun)\n",
        "      #t2 = time.time()\n",
        "      #total -= (t2-t1)\n",
        "      if(trac_val == float('inf')):\n",
        "        list1.append(abs(res.fun))\n",
        "      else:\n",
        "        list1.append(abs(trac_val))\n",
        "      list2.append(iter)\n",
        "\n",
        "      # In case of constraints with no optimal solution, the simplex method returns a solution which satisfies only some constraints.\n",
        "      # Hence, we are checking if the solution satifies all constraints before going any further in branching. \n",
        "      if np.any(np.dot(A, np.transpose(res.x)) > b + 0.00001):\n",
        "          return None\n",
        "\n",
        "      # While debugging the code which was giving absurd results on conflicting constraints, we came across this problem. \n",
        "      # In case of no solution, the \"linprog\" function returns a list of zeros or the previous result of flow variables\n",
        "      # Hence we are checking both cases, and returning None on discorvering such absurdities. \n",
        "      if(np.all(prev_flow_val == res.x) or res.fun == 0):\n",
        "        return None\n",
        "      #print(\"tracking\",trac_val,res.fun)\n",
        "\n",
        "      # so if tracking variable has minimum value than the present obj_value we stop branching from here\n",
        "      if(trac_val < res.fun):\n",
        "        return None\n",
        "\n",
        "      bestnode = Node(res.x,res.fun)\n",
        "      keyindex = isInt(res.x)\n",
        "\n",
        "      if keyindex == None:\n",
        "        return bestnode\n",
        "      else:\n",
        "        # let x1 = 5.56 be a non-integer solution\n",
        "        index = keyindex\n",
        "        #print(\"going left\")\n",
        "        left_constraint = LeftCons(len(c),index) # add a constraint x1<= 5 for the left branch\n",
        "        left_best_node = bab(np.append(A,[left_constraint],axis=0),np.append(b,math.floor(res.x[index])),c,res.x,trac_val,min_or_max)\n",
        "        if(left_best_node != None):\n",
        "          trac_val = left_best_node.obj_func_val # trac_val is updated when we obtain an integer solution\n",
        "\n",
        "        #print(\"going right\")\n",
        "        #print(\"tracked val\",trac_max_val)\n",
        "        right_constraint = RightCons(len(c),index) # add a constraint x1>=6 for the right branch\n",
        "        right_best_node = bab(np.append(A,[right_constraint],axis=0),np.append(b,-math.ceil(res.x[index])),c,res.x,trac_val,min_or_max)\n",
        "        if(right_best_node != None):\n",
        "          trac_val = right_best_node.obj_func_val  # trac_val is updated when we obtain an integer solution\n",
        "\n",
        "        if(left_best_node == None):\n",
        "          return right_best_node\n",
        "        elif(right_best_node == None):\n",
        "          return left_best_node\n",
        "        elif(left_best_node.obj_func_val < right_best_node.obj_func_val):\n",
        "          return left_best_node\n",
        "        else:\n",
        "          return right_best_node\n",
        "\n",
        "\n",
        "    "
      ],
      "execution_count": null,
      "outputs": []
    },
    {
      "cell_type": "code",
      "metadata": {
        "colab": {
          "base_uri": "https://localhost:8080/",
          "height": 493
        },
        "id": "-gakz8u4YYpY",
        "outputId": "afb6809d-6367-4b2c-8dd9-a7c03df57098"
      },
      "source": [
        "A = np.array([[10,3], [2,3]])\n",
        "b = np.array([52,18])\n",
        "c = np.array([5,6])\n",
        "\n",
        "# Set of constraints: Ax <= b, to be calculated: min(cx), x- vector of flow variables\n",
        "# A - LHS coefficients of constraints, b - RHS of constraints, c - objective function coefficients\n",
        "list1 = []\n",
        "iter = 0\n",
        "list2 = []\n",
        "total = 0\n",
        "start_time = time.time()\n",
        "node = bab(A,b,c,[],float('inf'),'max')\n",
        "total = (total + time.time() - start_time)*100\n",
        "if node == None:\n",
        "  print(\"No feasible integer solution exists\")\n",
        "else:\n",
        "  print(\"\\nFinal Optimal solution(Integer): \")\n",
        "  print(\"\\tFlow variables: \",node.flow_var)\n",
        "  #print(\"\\tObjective function value: \",abs(np.dot(c, np.transpose(node.flow_var))))\n",
        "  print(\"\\tObjective function value: \",abs(node.obj_func_val))\n",
        "  print(\"\\nRunning time of branch and bound algorithm: %s ms\\n\" % total)\n",
        "  plt.plot(list2,list1)\n",
        "  plt.title('Testcase1 convergence')\n",
        "  plt.xlabel('Iteration number:')\n",
        "  plt.ylabel('Objective function value')\n",
        "  plt.show()"
      ],
      "execution_count": null,
      "outputs": [
        {
          "output_type": "stream",
          "text": [
            "/usr/local/lib/python3.7/dist-packages/numpy/core/fromnumeric.py:87: VisibleDeprecationWarning: Creating an ndarray from ragged nested sequences (which is a list-or-tuple of lists-or-tuples-or ndarrays with different lengths or shapes) is deprecated. If you meant to do this, you must specify 'dtype=object' when creating the ndarray\n",
            "  return ufunc.reduce(obj, axis, dtype, out, **passkwargs)\n",
            "/usr/local/lib/python3.7/dist-packages/ipykernel_launcher.py:30: DeprecationWarning: elementwise comparison failed; this will raise an error in the future.\n"
          ],
          "name": "stderr"
        },
        {
          "output_type": "stream",
          "text": [
            "\n",
            "Final Optimal solution(Integer): \n",
            "\tFlow variables:  [3. 4.]\n",
            "\tObjective function value:  38.999999939340455\n",
            "\n",
            "Running time of branch and bound algorithm: 3.157949447631836 ms\n",
            "\n"
          ],
          "name": "stdout"
        },
        {
          "output_type": "display_data",
          "data": {
            "image/png": "[encoded data removed]",
            "text/plain": [
              "<Figure size 432x288 with 1 Axes>"
            ]
          },
          "metadata": {
            "tags": [],
            "needs_background": "light"
          }
        }
      ]
    },
    {
      "cell_type": "code",
      "metadata": {
        "colab": {
          "base_uri": "https://localhost:8080/"
        },
        "id": "kgC23aIXZiHV",
        "outputId": "b6c3aec9-7283-4071-eff3-2cd0c53a0f87"
      },
      "source": [
        "A = np.array([[1,5,1], [-1,-2,-1],[-2,-4,-1]])\n",
        "b = np.array([100,-50,-80])\n",
        "c = np.array([2,1,2])\n",
        "\n",
        "# Set of constraints: Ax <= b, to be calculated: min(cx), x- vector of flow variables\n",
        "# A - LHS coefficients of constraints, b - RHS of constraints, c - objective function coefficients\n",
        "total = 0\n",
        "start_time = time.time()\n",
        "node = bab(A,b,c,[],float('inf'),'min')\n",
        "total = (total + time.time() - start_time)*1000\n",
        "if node == None:\n",
        "  print(\"No feasible integer solution exists\")\n",
        "else:\n",
        "  print(\"\\nFinal Optimal solution(Integer): \")\n",
        "  print(\"\\tFlow variables: \",node.flow_var)\n",
        "  #print(\"\\tObjective function value: \",abs(np.dot(c, np.transpose(node.flow_var))))\n",
        "  print(\"\\tObjective function value: \",abs(node.obj_func_val))\n",
        "  print(\"\\nRunning time of branch and bound algorithm: %s ms\\n\" % total)"
      ],
      "execution_count": null,
      "outputs": [
        {
          "output_type": "stream",
          "text": [
            "/usr/local/lib/python3.7/dist-packages/numpy/core/fromnumeric.py:87: VisibleDeprecationWarning: Creating an ndarray from ragged nested sequences (which is a list-or-tuple of lists-or-tuples-or ndarrays with different lengths or shapes) is deprecated. If you meant to do this, you must specify 'dtype=object' when creating the ndarray\n",
            "  return ufunc.reduce(obj, axis, dtype, out, **passkwargs)\n",
            "/usr/local/lib/python3.7/dist-packages/ipykernel_launcher.py:30: DeprecationWarning: elementwise comparison failed; this will raise an error in the future.\n"
          ],
          "name": "stderr"
        },
        {
          "output_type": "stream",
          "text": [
            "\n",
            "Final Optimal solution(Integer): \n",
            "\tFlow variables:  [14. 16.  4.]\n",
            "\tObjective function value:  51.99999943946539\n",
            "\n",
            "Running time of branch and bound algorithm: 319.29540634155273 ms\n",
            "\n"
          ],
          "name": "stdout"
        }
      ]
    },
    {
      "cell_type": "code",
      "metadata": {
        "colab": {
          "base_uri": "https://localhost:8080/",
          "height": 493
        },
        "id": "68FQZJd8bwWa",
        "outputId": "d2ce8912-0d5f-4336-e55c-5bf293ee9661"
      },
      "source": [
        "A = np.array([[5,8,3,2,7],[1,8,6,5,4]])\n",
        "b = np.array([112,109])\n",
        "c = np.array([4,7,6,5,4])\n",
        "\n",
        "list1 = []\n",
        "iter = 0\n",
        "list2 = []\n",
        "total = 0\n",
        "start_time = time.time()\n",
        "node = bab(A,b,c,[],float('inf'),'max')\n",
        "total = (total + time.time() - start_time)*1000\n",
        "if node == None:\n",
        "  print(\"No feasible integer solution exists\")\n",
        "else:\n",
        "  print(\"\\nFinal Optimal solution(Integer): \")\n",
        "  print(\"\\tFlow variables: \",node.flow_var)\n",
        "  #print(\"\\tObjective function value: \",abs(np.dot(c, np.transpose(node.flow_var))))\n",
        "  print(\"\\tObjective function value: \",abs(node.obj_func_val))\n",
        "  print(\"\\nRunning time: %s ms\\n\" % total)\n",
        "  plt.plot(list2,list1)\n",
        "  plt.title('Testcase3 convergence')\n",
        "  plt.xlabel('Iteration number:')\n",
        "  plt.ylabel('Objective function value')\n",
        "  plt.show()"
      ],
      "execution_count": null,
      "outputs": [
        {
          "output_type": "stream",
          "text": [
            "\n",
            "Final Optimal solution(Integer): \n",
            "\tFlow variables:  [15.  0.  1. 17.  0.]\n",
            "\tObjective function value:  150.99999999507497\n",
            "\n",
            "Running time: 163.19036483764648 ms\n",
            "\n"
          ],
          "name": "stdout"
        },
        {
          "output_type": "stream",
          "text": [
            "/usr/local/lib/python3.7/dist-packages/numpy/core/fromnumeric.py:87: VisibleDeprecationWarning: Creating an ndarray from ragged nested sequences (which is a list-or-tuple of lists-or-tuples-or ndarrays with different lengths or shapes) is deprecated. If you meant to do this, you must specify 'dtype=object' when creating the ndarray\n",
            "  return ufunc.reduce(obj, axis, dtype, out, **passkwargs)\n",
            "/usr/local/lib/python3.7/dist-packages/ipykernel_launcher.py:30: DeprecationWarning: elementwise comparison failed; this will raise an error in the future.\n"
          ],
          "name": "stderr"
        },
        {
          "output_type": "display_data",
          "data": {
            "image/png": "[encoded data removed]",
            "text/plain": [
              "<Figure size 432x288 with 1 Axes>"
            ]
          },
          "metadata": {
            "tags": [],
            "needs_background": "light"
          }
        }
      ]
    },
    {
      "cell_type": "code",
      "metadata": {
        "id": "j9Y0v6wAZiJH",
        "colab": {
          "base_uri": "https://localhost:8080/",
          "height": 635
        },
        "outputId": "17ee8cb5-e1da-4974-919c-a3c6da320313"
      },
      "source": [
        "A = np.array([[-1,-1,-1,0,0,0,-1,0,0], \n",
        "              [0,0,-1,-1,-1,0,0,-1,0], \n",
        "              [-1,0,0,-1,0,-1,0,-1,0], \n",
        "              [-1,-1,0,0,-1,-1,0,0,-1], \n",
        "              [0,-1,-1,-1,-1,-1,0,0,-1],\n",
        "              [1,0,0,0,0,0,0,0,0],\n",
        "              [0,1,0,0,0,0,0,0,0],\n",
        "              [0,0,1,0,0,0,0,0,0],\n",
        "              [0,0,0,1,0,0,0,0,0],\n",
        "              [0,0,0,0,1,0,0,0,0],\n",
        "              [0,0,0,0,0,1,0,0,0],\n",
        "              [0,0,0,0,0,0,1,0,0],\n",
        "              [0,0,0,0,0,0,0,1,0],\n",
        "              [0,0,0,0,0,0,0,0,1]])\n",
        "b = np.array([-1,-1,-1,-1,-1,1,1,1,1,1,1,1,1,1])\n",
        "c = np.array([10,12,12,13,11,9,7,8,8])\n",
        "\n",
        "total = 0\n",
        "start_time = time.time()\n",
        "node = bab(A,b,c,[],float('inf'),'min')\n",
        "total = (total + time.time() - start_time)*1000\n",
        "if node == None:\n",
        "  print(\"No feasible integer solution exists\")\n",
        "else:\n",
        "  print(\"\\nFinal Optimal solution(Integer): \")\n",
        "  print(\"\\tFlow variables: \",node.flow_var)\n",
        "  #print(\"\\tObjective function value: \",abs(np.dot(c, np.transpose(node.flow_var))))\n",
        "  print(\"\\tObjective function value: \",abs(node.obj_func_val))\n",
        "  print(\"\\nRunning time of branch and bound algorithm: %s ms\\n\" % total)\n",
        "  plt.plot(list2,list1)\n",
        "  plt.title('Testcase0 convergence')\n",
        "  plt.xlabel('Iteration number:')\n",
        "  plt.ylabel('Objective function value')\n",
        "  plt.show()"
      ],
      "execution_count": null,
      "outputs": [
        {
          "output_type": "stream",
          "text": [
            "/usr/local/lib/python3.7/dist-packages/numpy/core/fromnumeric.py:87: VisibleDeprecationWarning: Creating an ndarray from ragged nested sequences (which is a list-or-tuple of lists-or-tuples-or ndarrays with different lengths or shapes) is deprecated. If you meant to do this, you must specify 'dtype=object' when creating the ndarray\n",
            "  return ufunc.reduce(obj, axis, dtype, out, **passkwargs)\n",
            "/usr/local/lib/python3.7/dist-packages/ipykernel_launcher.py:30: DeprecationWarning: elementwise comparison failed; this will raise an error in the future.\n",
            "/usr/local/lib/python3.7/dist-packages/ipykernel_launcher.py:12: OptimizeWarning: Solving system with option 'cholesky':True failed. It is normal for this to happen occasionally, especially as the solution is approached. However, if you see this frequently, consider setting option 'cholesky' to False.\n",
            "  if sys.path[0] == '':\n",
            "/usr/local/lib/python3.7/dist-packages/ipykernel_launcher.py:12: OptimizeWarning: Solving system with option 'sym_pos':True failed. It is normal for this to happen occasionally, especially as the solution is approached. However, if you see this frequently, consider setting option 'sym_pos' to False.\n",
            "  if sys.path[0] == '':\n",
            "/usr/local/lib/python3.7/dist-packages/scipy/optimize/_linprog_ip.py:110: LinAlgWarning: Ill-conditioned matrix (rcond=3.64559e-36): result may not be accurate.\n",
            "  return sp.linalg.solve(M, r, sym_pos=sym_pos)\n",
            "/usr/local/lib/python3.7/dist-packages/scipy/optimize/_linprog_ip.py:110: LinAlgWarning: Ill-conditioned matrix (rcond=1.22035e-35): result may not be accurate.\n",
            "  return sp.linalg.solve(M, r, sym_pos=sym_pos)\n"
          ],
          "name": "stderr"
        },
        {
          "output_type": "stream",
          "text": [
            "\n",
            "Final Optimal solution(Integer): \n",
            "\tFlow variables:  [0. 1. 0. 0. 0. 0. 0. 1. 0.]\n",
            "\tObjective function value:  20.000000000244405\n",
            "\n",
            "Running time of branch and bound algorithm: 30.0137996673584 ms\n",
            "\n"
          ],
          "name": "stdout"
        },
        {
          "output_type": "display_data",
          "data": {
            "image/png": "[encoded data removed]",
            "text/plain": [
              "<Figure size 432x288 with 1 Axes>"
            ]
          },
          "metadata": {
            "tags": [],
            "needs_background": "light"
          }
        }
      ]
    },
    {
      "cell_type": "code",
      "metadata": {
        "colab": {
          "base_uri": "https://localhost:8080/",
          "height": 493
        },
        "id": "ow-CZMUtj68v",
        "outputId": "0833eeba-c87f-4dbd-db8c-f12807ecdc10"
      },
      "source": [
        "A = np.array([[-1,-1,-1,-1,0,0,0,0,0,0,0],\n",
        "              [-1,-1,-1,0,-1,0,0,0,0,0,0],\n",
        "              [-1,-1,-1,-1,-1,-1,0,0,0,0,0],\n",
        "              [-1,0,-1,-1,0,-1,-1,0,0,0,0],\n",
        "              [0,-1,-1,0,-1,-1,0,-1,-1,0,0],\n",
        "              [0,0,-1,-1,-1,-1,-1,-1,0,0,0],\n",
        "              [0,0,0,-1,0,-1,-1,-1,0,0,0],\n",
        "              [0,0,0,0,-1,-1,-1,-1,-1,-1,0],\n",
        "              [0,0,0,0,-1,0,0,-1,-1,-1,-1],\n",
        "              [0,0,0,0,0,0,0,-1,-1,-1,-1],\n",
        "              [0,0,0,0,0,0,0,0,-1,-1,-1],\n",
        "              [1,0,0,0,0,0,0,0,0,0,0],\n",
        "              [0,1,0,0,0,0,0,0,0,0,0],\n",
        "              [0,0,1,0,0,0,0,0,0,0,0],\n",
        "              [0,0,0,1,0,0,0,0,0,0,0],\n",
        "              [0,0,0,0,1,0,0,0,0,0,0],\n",
        "              [0,0,0,0,0,1,0,0,0,0,0],\n",
        "              [0,0,0,0,0,0,1,0,0,0,0],\n",
        "              [0,0,0,0,0,0,0,1,0,0,0],\n",
        "              [0,0,0,0,0,0,0,0,1,0,0],\n",
        "              [0,0,0,0,0,0,0,0,0,1,0],\n",
        "              [0,0,0,0,0,0,0,0,0,0,1]])\n",
        "b = np.array([-1,-1,-1,-1,-1,-1,-1,-1,-1,-1,-1,1,1,1,1,1,1,1,1,1,1,1])\n",
        "c = np.array([1,1,1,1,1,1,1,1,1,1,1])\n",
        "list1 = []\n",
        "iter = 0\n",
        "list2 = []\n",
        "total = 0\n",
        "start_time = time.time()\n",
        "node = bab(A,b,c,[],float('inf'),'min')\n",
        "total = (total + time.time() - start_time)*1000\n",
        "if node == None:\n",
        "  print(\"No feasible integer solution exists\")\n",
        "else:\n",
        "  print(\"\\nFinal Optimal solution(Integer): \")\n",
        "  print(\"\\tFlow variables: \",node.flow_var)\n",
        "  #print(\"\\tObjective function value: \",abs(np.dot(c, np.transpose(node.flow_var))))\n",
        "  print(\"\\tObjective function value: \",abs(node.obj_func_val))\n",
        "  print(\"\\nRunning time of branch and bound algorithm: %s ms\\n\" % total)\n",
        "  plt.plot(list2,list1)\n",
        "  plt.title('Testcase4 convergence')\n",
        "  plt.xlabel('Iteration number:')\n",
        "  plt.ylabel('Objective function value')\n",
        "  plt.show()"
      ],
      "execution_count": null,
      "outputs": [
        {
          "output_type": "stream",
          "text": [
            "/usr/local/lib/python3.7/dist-packages/numpy/core/fromnumeric.py:87: VisibleDeprecationWarning: Creating an ndarray from ragged nested sequences (which is a list-or-tuple of lists-or-tuples-or ndarrays with different lengths or shapes) is deprecated. If you meant to do this, you must specify 'dtype=object' when creating the ndarray\n",
            "  return ufunc.reduce(obj, axis, dtype, out, **passkwargs)\n",
            "/usr/local/lib/python3.7/dist-packages/ipykernel_launcher.py:30: DeprecationWarning: elementwise comparison failed; this will raise an error in the future.\n"
          ],
          "name": "stderr"
        },
        {
          "output_type": "stream",
          "text": [
            "\n",
            "Final Optimal solution(Integer): \n",
            "\tFlow variables:  [1. 0. 0. 1. 0. 0. 0. 0. 1. 0. 0.]\n",
            "\tObjective function value:  3.0000000000082103\n",
            "\n",
            "Running time of branch and bound algorithm: 63.85302543640137 ms\n",
            "\n"
          ],
          "name": "stdout"
        },
        {
          "output_type": "display_data",
          "data": {
            "image/png": "[encoded data removed]",
            "text/plain": [
              "<Figure size 432x288 with 1 Axes>"
            ]
          },
          "metadata": {
            "tags": [],
            "needs_background": "light"
          }
        }
      ]
    },
    {
      "cell_type": "code",
      "metadata": {
        "colab": {
          "base_uri": "https://localhost:8080/",
          "height": 493
        },
        "id": "abhc5NopuVrp",
        "outputId": "7d9c7228-8570-4313-8752-72e824875681"
      },
      "source": [
        "A = np.array([[5,7,4,3],\n",
        "              [1,0,0,0],\n",
        "              [0,1,0,0],\n",
        "              [0,0,1,0],\n",
        "              [0,0,0,1]])\n",
        "b = np.array([14,1,1,1,1])\n",
        "c = np.array([8,11,6,4])\n",
        "list1 = []\n",
        "iter = 0\n",
        "list2 = []\n",
        "total = 0\n",
        "start_time = time.time()\n",
        "node = bab(A,b,c,[],float('inf'),'max')\n",
        "total = (total + time.time() - start_time)*1000\n",
        "if node == None:\n",
        "  print(\"No feasible integer solution exists\")\n",
        "else:\n",
        "  print(\"\\nFinal Optimal solution(Integer): \")\n",
        "  print(\"\\tFlow variables: \",node.flow_var)\n",
        "  #print(\"\\tObjective function value: \",abs(np.dot(c, np.transpose(node.flow_var))))\n",
        "  print(\"\\tObjective function value: \",abs(node.obj_func_val))\n",
        "  print(\"\\nRunning time of branch and bound algorithm: %s ms\\n\" % total)\n",
        "  plt.plot(list2,list1)\n",
        "  plt.title('Testcase2 convergence')\n",
        "  plt.xlabel('Iteration number:')\n",
        "  plt.ylabel('Objective function value')\n",
        "  plt.show()"
      ],
      "execution_count": null,
      "outputs": [
        {
          "output_type": "stream",
          "text": [
            "/usr/local/lib/python3.7/dist-packages/numpy/core/fromnumeric.py:87: VisibleDeprecationWarning: Creating an ndarray from ragged nested sequences (which is a list-or-tuple of lists-or-tuples-or ndarrays with different lengths or shapes) is deprecated. If you meant to do this, you must specify 'dtype=object' when creating the ndarray\n",
            "  return ufunc.reduce(obj, axis, dtype, out, **passkwargs)\n",
            "/usr/local/lib/python3.7/dist-packages/ipykernel_launcher.py:30: DeprecationWarning: elementwise comparison failed; this will raise an error in the future.\n"
          ],
          "name": "stderr"
        },
        {
          "output_type": "stream",
          "text": [
            "\n",
            "Final Optimal solution(Integer): \n",
            "\tFlow variables:  [0. 1. 1. 1.]\n",
            "\tObjective function value:  21.0\n",
            "\n",
            "Running time of branch and bound algorithm: 59.508323669433594 ms\n",
            "\n"
          ],
          "name": "stdout"
        },
        {
          "output_type": "display_data",
          "data": {
            "image/png": "[encoded data removed]",
            "text/plain": [
              "<Figure size 432x288 with 1 Axes>"
            ]
          },
          "metadata": {
            "tags": [],
            "needs_background": "light"
          }
        }
      ]
    },
    {
      "cell_type": "code",
      "metadata": {
        "colab": {
          "base_uri": "https://localhost:8080/",
          "height": 552
        },
        "id": "AJSil7O1lfYV",
        "outputId": "c7e55547-d7b8-4408-96c6-0bed790440d1"
      },
      "source": [
        "num_cities = 3\n",
        "coordinates = np.random.rand(num_cities,2)\n",
        "demand = [num_cities-1]\n",
        "for i in range(num_cities-1):\n",
        "  demand.append(-1)\n",
        "demand = np.array(demand)\n",
        "p1 = network_top(num_cities,coordinates,demand)\n",
        "\n",
        "A = lhs_constraints(num_cities)\n",
        "b = rhs_constraints(demand,num_cities)\n",
        "\n",
        "weights = np.zeros((num_cities, num_cities))\n",
        "\n",
        "for i in range(num_cities):\n",
        "  j= i+1\n",
        "  while (j<num_cities):\n",
        "    temp = random.randint(1, num_cities*5)\n",
        "    weights[i][j] = temp\n",
        "    weights[j][i] = temp\n",
        "    j = j+1\n",
        "\n",
        "weights = np.array([[ 0., 16.,  3.],[16.,  0.,  9.],[ 3.,  9.,  0.]])\n",
        "\n",
        "c = np.asarray(weights.flatten())\n",
        "\n",
        "total = 0\n",
        "start_time = time.time()\n",
        "node = bab(A,b,c,[],float('inf'),'min')\n",
        "total = (total + time.time() - start_time)*1000\n",
        "if node == None:\n",
        "  print(\"No feasible integer solution exists\")\n",
        "else:\n",
        "  print(\"\\nFinal Optimal solution(Integer): \")\n",
        "  opt_x = node.flow_var\n",
        "  print(\"\\tFlow variables: \",opt_x)\n",
        "  opt_val = abs(np.dot(c, np.transpose(node.flow_var)))\n",
        "  print(\"\\tObjective function value: \",opt_val)\n",
        "  print(\"\\nRunning time of branch and bound algorithm: %s ms\\n\" % total)\n",
        "\n",
        "  opt_x = np.array(opt_x)\n",
        "  opt_x = opt_x.reshape((num_cities, num_cities))\n",
        "  plot(num_cities,weights,opt_x)"
      ],
      "execution_count": null,
      "outputs": [
        {
          "output_type": "stream",
          "text": [
            "/usr/local/lib/python3.7/dist-packages/numpy/core/fromnumeric.py:87: VisibleDeprecationWarning: Creating an ndarray from ragged nested sequences (which is a list-or-tuple of lists-or-tuples-or ndarrays with different lengths or shapes) is deprecated. If you meant to do this, you must specify 'dtype=object' when creating the ndarray\n",
            "  return ufunc.reduce(obj, axis, dtype, out, **passkwargs)\n",
            "/usr/local/lib/python3.7/dist-packages/ipykernel_launcher.py:12: OptimizeWarning: Solving system with option 'cholesky':True failed. It is normal for this to happen occasionally, especially as the solution is approached. However, if you see this frequently, consider setting option 'cholesky' to False.\n",
            "  if sys.path[0] == '':\n",
            "/usr/local/lib/python3.7/dist-packages/ipykernel_launcher.py:12: OptimizeWarning: Solving system with option 'sym_pos':True failed. It is normal for this to happen occasionally, especially as the solution is approached. However, if you see this frequently, consider setting option 'sym_pos' to False.\n",
            "  if sys.path[0] == '':\n",
            "/usr/local/lib/python3.7/dist-packages/ipykernel_launcher.py:12: OptimizeWarning: Solving system with option 'sym_pos':False failed. This may happen occasionally, especially as the solution is approached. However, if you see this frequently, your problem may be numerically challenging. If you cannot improve the formulation, consider setting 'lstsq' to True. Consider also setting `presolve` to True, if it is not already.\n",
            "  if sys.path[0] == '':\n",
            "/usr/local/lib/python3.7/dist-packages/ipykernel_launcher.py:30: DeprecationWarning: elementwise comparison failed; this will raise an error in the future.\n"
          ],
          "name": "stderr"
        },
        {
          "output_type": "stream",
          "text": [
            "\n",
            "Final Optimal solution(Integer): \n",
            "\tFlow variables:  [0. 0. 2. 0. 0. 0. 0. 1. 0.]\n",
            "\tObjective function value:  15.0\n",
            "\n",
            "Running time of branch and bound algorithm: 8.493185043334961 ms\n",
            "\n"
          ],
          "name": "stdout"
        },
        {
          "output_type": "display_data",
          "data": {
            "image/png": "[encoded data removed]",
            "text/plain": [
              "<Figure size 432x288 with 1 Axes>"
            ]
          },
          "metadata": {
            "tags": []
          }
        }
      ]
    },
    {
      "cell_type": "code",
      "metadata": {
        "colab": {
          "base_uri": "https://localhost:8080/",
          "height": 446
        },
        "id": "O0sC7Pb1aAAO",
        "outputId": "ae207b96-045d-4f95-8fe3-e77946162933"
      },
      "source": [
        "num_cities = 4\n",
        "coordinates = np.random.rand(num_cities,2)\n",
        "demand = [num_cities-1]\n",
        "for i in range(num_cities-1):\n",
        "  demand.append(-1)\n",
        "demand = np.array(demand)\n",
        "p1 = network_top(num_cities,coordinates,demand)\n",
        "\n",
        "A = lhs_constraints(num_cities)\n",
        "b = rhs_constraints(demand,num_cities)\n",
        "\n",
        "weights = np.zeros((num_cities, num_cities))\n",
        "\n",
        "for i in range(num_cities):\n",
        "  j= i+1\n",
        "  while (j<num_cities):\n",
        "    temp = random.randint(1, num_cities*5)\n",
        "    weights[i][j] = temp\n",
        "    weights[j][i] = temp\n",
        "    j = j+1\n",
        "\n",
        "weights = np.array([[ 0., 16.,  3. , 5.],\n",
        " [16. , 0.,  9. ,10.],\n",
        " [ 3.,  9. , 0.,  3.],\n",
        " [ 5., 10.,  3. , 0.]])\n",
        "\n",
        "c = np.asarray(weights.flatten())\n",
        "\n",
        "total = 0\n",
        "start_time = time.time()\n",
        "node = bab(A,b,c,[],float('inf'),'min')\n",
        "total = (total + time.time() - start_time)*1000\n",
        "if node == None:\n",
        "  print(\"No feasible integer solution exists\")\n",
        "else:\n",
        "  print(\"\\nFinal Optimal solution(Integer): \")\n",
        "  opt_x = node.flow_var\n",
        "  print(\"\\tFlow variables: \",opt_x)\n",
        "  opt_val = abs(np.dot(c, np.transpose(node.flow_var)))\n",
        "  print(\"\\tObjective function value: \",opt_val)\n",
        "  print(\"\\nRunning time of branch and bound algorithm: %s ms\\n\" % total)\n",
        "\n",
        "  opt_x = np.array(opt_x)\n",
        "  opt_x = opt_x.reshape((num_cities, num_cities))\n",
        "  plot(num_cities,weights,opt_x)"
      ],
      "execution_count": null,
      "outputs": [
        {
          "output_type": "stream",
          "text": [
            "/usr/local/lib/python3.7/dist-packages/numpy/core/fromnumeric.py:87: VisibleDeprecationWarning: Creating an ndarray from ragged nested sequences (which is a list-or-tuple of lists-or-tuples-or ndarrays with different lengths or shapes) is deprecated. If you meant to do this, you must specify 'dtype=object' when creating the ndarray\n",
            "  return ufunc.reduce(obj, axis, dtype, out, **passkwargs)\n",
            "/usr/local/lib/python3.7/dist-packages/ipykernel_launcher.py:30: DeprecationWarning: elementwise comparison failed; this will raise an error in the future.\n"
          ],
          "name": "stderr"
        },
        {
          "output_type": "stream",
          "text": [
            "\n",
            "Final Optimal solution(Integer): \n",
            "\tFlow variables:  [0. 0. 2. 1. 0. 0. 0. 0. 0. 1. 0. 0. 0. 0. 0. 0.]\n",
            "\tObjective function value:  20.0\n",
            "\n",
            "Running time of branch and bound algorithm: 7.377147674560547 ms\n",
            "\n"
          ],
          "name": "stdout"
        },
        {
          "output_type": "display_data",
          "data": {
            "image/png": "[encoded data removed]",
            "text/plain": [
              "<Figure size 432x288 with 1 Axes>"
            ]
          },
          "metadata": {
            "tags": []
          }
        }
      ]
    },
    {
      "cell_type": "code",
      "metadata": {
        "colab": {
          "base_uri": "https://localhost:8080/",
          "height": 464
        },
        "id": "MXQ4Y7cQftOQ",
        "outputId": "1eef874b-48b4-46e9-f014-462b9c4f87d6"
      },
      "source": [
        "num_cities = 5\n",
        "coordinates = np.random.rand(num_cities,2)\n",
        "demand = [num_cities-1]\n",
        "for i in range(num_cities-1):\n",
        "  demand.append(-1)\n",
        "demand = np.array(demand)\n",
        "p1 = network_top(num_cities,coordinates,demand)\n",
        "\n",
        "A = lhs_constraints(num_cities)\n",
        "b = rhs_constraints(demand,num_cities)\n",
        "\n",
        "weights = np.zeros((num_cities, num_cities))\n",
        "\n",
        "for i in range(num_cities):\n",
        "  j= i+1\n",
        "  while (j<num_cities):\n",
        "    temp = random.randint(1, num_cities*5)\n",
        "    weights[i][j] = temp\n",
        "    weights[j][i] = temp\n",
        "    j = j+1\n",
        "\n",
        "weights = np.array([[ 0., 21.,19.,  4.,  4.],\n",
        " [21.,  0.,  2., 25.,  7.],\n",
        " [19.,  2.,  0., 14.,  2.],\n",
        " [ 4., 25., 14.,  0., 15.],\n",
        " [ 4.,  7.,  2., 15.,  0.]])\n",
        "\n",
        "c = np.asarray(weights.flatten())\n",
        "\n",
        "total = 0\n",
        "start_time = time.time()\n",
        "node = bab(A,b,c,[],float('inf'),'min')\n",
        "total = (total + time.time() - start_time)*1000\n",
        "if node == None:\n",
        "  print(\"No feasible integer solution exists\")\n",
        "else:\n",
        "  print(\"\\nFinal Optimal solution(Integer): \")\n",
        "  opt_x = node.flow_var\n",
        "  print(\"\\tFlow variables: \",opt_x)\n",
        "  opt_val = abs(np.dot(c, np.transpose(node.flow_var)))\n",
        "  print(\"\\tObjective function value: \",opt_val)\n",
        "  print(\"\\nRunning time of branch and bound algorithm: %s ms\\n\" % total)\n",
        "\n",
        "  opt_x = np.array(opt_x)\n",
        "  opt_x = opt_x.reshape((num_cities, num_cities))\n",
        "  plot(num_cities,weights,opt_x)"
      ],
      "execution_count": null,
      "outputs": [
        {
          "output_type": "stream",
          "text": [
            "/usr/local/lib/python3.7/dist-packages/numpy/core/fromnumeric.py:87: VisibleDeprecationWarning: Creating an ndarray from ragged nested sequences (which is a list-or-tuple of lists-or-tuples-or ndarrays with different lengths or shapes) is deprecated. If you meant to do this, you must specify 'dtype=object' when creating the ndarray\n",
            "  return ufunc.reduce(obj, axis, dtype, out, **passkwargs)\n",
            "/usr/local/lib/python3.7/dist-packages/ipykernel_launcher.py:30: DeprecationWarning: elementwise comparison failed; this will raise an error in the future.\n"
          ],
          "name": "stderr"
        },
        {
          "output_type": "stream",
          "text": [
            "\n",
            "Final Optimal solution(Integer): \n",
            "\tFlow variables:  [0. 0. 0. 1. 3. 0. 0. 0. 0. 0. 0. 1. 0. 0. 0. 0. 0. 0. 0. 0. 0. 0. 2. 0.\n",
            " 0.]\n",
            "\tObjective function value:  22.0\n",
            "\n",
            "Running time of branch and bound algorithm: 12.70747184753418 ms\n",
            "\n"
          ],
          "name": "stdout"
        },
        {
          "output_type": "display_data",
          "data": {
            "image/png": "[encoded data removed]",
            "text/plain": [
              "<Figure size 432x288 with 1 Axes>"
            ]
          },
          "metadata": {
            "tags": []
          }
        }
      ]
    },
    {
      "cell_type": "code",
      "metadata": {
        "colab": {
          "base_uri": "https://localhost:8080/",
          "height": 606
        },
        "id": "r8M51yUtgu4t",
        "outputId": "b0516137-99aa-4123-8bd2-0e440a078509"
      },
      "source": [
        "num_cities = 6\n",
        "coordinates = np.random.rand(num_cities,2)\n",
        "demand = [num_cities-1]\n",
        "for i in range(num_cities-1):\n",
        "  demand.append(-1)\n",
        "demand = np.array(demand)\n",
        "p1 = network_top(num_cities,coordinates,demand)\n",
        "\n",
        "A = lhs_constraints(num_cities)\n",
        "b = rhs_constraints(demand,num_cities)\n",
        "\n",
        "weights = np.zeros((num_cities, num_cities))\n",
        "\n",
        "for i in range(num_cities):\n",
        "  j= i+1\n",
        "  while (j<num_cities):\n",
        "    temp = random.randint(1, num_cities*5)\n",
        "    weights[i][j] = temp\n",
        "    weights[j][i] = temp\n",
        "    j = j+1\n",
        "\n",
        "weights = np.array([[ 0., 25.,  1., 17., 27., 18.],\n",
        " [25.,  0., 21., 13., 18., 23.],\n",
        " [ 1.,21.,  0., 29., 18., 17.],\n",
        " [17., 13., 29.,  0., 20., 13.],\n",
        " [27., 18., 18., 20.,  0., 17.],\n",
        " [18., 23., 17., 13., 17.,  0.]])\n",
        "\n",
        "\n",
        "\n",
        "c = np.asarray(weights.flatten())\n",
        "\n",
        "total = 0\n",
        "start_time = time.time()\n",
        "node = bab(A,b,c,[],float('inf'),'min')\n",
        "total = (total + time.time() - start_time)*1000\n",
        "if node == None:\n",
        "  print(\"No feasible integer solution exists\")\n",
        "else:\n",
        "  print(\"\\nFinal Optimal solution(Integer): \")\n",
        "  opt_x = node.flow_var\n",
        "  print(\"\\tFlow variables: \",opt_x)\n",
        "  opt_val = abs(np.dot(c, np.transpose(node.flow_var)))\n",
        "  print(\"\\tObjective function value: \",opt_val)\n",
        "  print(\"\\nRunning time of branch and bound algorithm: %s ms\\n\" % total)\n",
        "\n",
        "  opt_x = np.array(opt_x)\n",
        "  opt_x = opt_x.reshape((num_cities, num_cities))\n",
        "  plot(num_cities,weights,opt_x)"
      ],
      "execution_count": null,
      "outputs": [
        {
          "output_type": "stream",
          "text": [
            "/usr/local/lib/python3.7/dist-packages/numpy/core/fromnumeric.py:87: VisibleDeprecationWarning: Creating an ndarray from ragged nested sequences (which is a list-or-tuple of lists-or-tuples-or ndarrays with different lengths or shapes) is deprecated. If you meant to do this, you must specify 'dtype=object' when creating the ndarray\n",
            "  return ufunc.reduce(obj, axis, dtype, out, **passkwargs)\n",
            "/usr/local/lib/python3.7/dist-packages/ipykernel_launcher.py:12: OptimizeWarning: Solving system with option 'cholesky':True failed. It is normal for this to happen occasionally, especially as the solution is approached. However, if you see this frequently, consider setting option 'cholesky' to False.\n",
            "  if sys.path[0] == '':\n",
            "/usr/local/lib/python3.7/dist-packages/ipykernel_launcher.py:12: OptimizeWarning: Solving system with option 'sym_pos':True failed. It is normal for this to happen occasionally, especially as the solution is approached. However, if you see this frequently, consider setting option 'sym_pos' to False.\n",
            "  if sys.path[0] == '':\n",
            "/usr/local/lib/python3.7/dist-packages/ipykernel_launcher.py:12: OptimizeWarning: Solving system with option 'sym_pos':False failed. This may happen occasionally, especially as the solution is approached. However, if you see this frequently, your problem may be numerically challenging. If you cannot improve the formulation, consider setting 'lstsq' to True. Consider also setting `presolve` to True, if it is not already.\n",
            "  if sys.path[0] == '':\n",
            "/usr/local/lib/python3.7/dist-packages/ipykernel_launcher.py:30: DeprecationWarning: elementwise comparison failed; this will raise an error in the future.\n",
            "/usr/local/lib/python3.7/dist-packages/scipy/optimize/_linprog_ip.py:110: LinAlgWarning: Ill-conditioned matrix (rcond=4.81977e-18): result may not be accurate.\n",
            "  return sp.linalg.solve(M, r, sym_pos=sym_pos)\n"
          ],
          "name": "stderr"
        },
        {
          "output_type": "stream",
          "text": [
            "\n",
            "Final Optimal solution(Integer): \n",
            "\tFlow variables:  [0. 0. 4. 1. 0. 0. 0. 0. 0. 0. 0. 0. 0. 1. 0. 0. 1. 1. 0. 0. 0. 0. 0. 0.\n",
            " 0. 0. 0. 0. 0. 0. 0. 0. 0. 0. 0. 0.]\n",
            "\tObjective function value:  77.0\n",
            "\n",
            "Running time of branch and bound algorithm: 45.03202438354492 ms\n",
            "\n"
          ],
          "name": "stdout"
        },
        {
          "output_type": "display_data",
          "data": {
            "image/png": "[encoded data removed]",
            "text/plain": [
              "<Figure size 432x288 with 1 Axes>"
            ]
          },
          "metadata": {
            "tags": []
          }
        }
      ]
    },
    {
      "cell_type": "code",
      "metadata": {
        "colab": {
          "base_uri": "https://localhost:8080/",
          "height": 659
        },
        "id": "Ek6fwrRKbjyy",
        "outputId": "9edc5fe6-9173-4e65-8fff-d015f89b7661"
      },
      "source": [
        "num_cities = 7\n",
        "coordinates = np.random.rand(num_cities,2)\n",
        "demand = [num_cities-1]\n",
        "for i in range(num_cities-1):\n",
        "  demand.append(-1)\n",
        "demand = np.array(demand)\n",
        "p1 = network_top(num_cities,coordinates,demand)\n",
        "\n",
        "A = lhs_constraints(num_cities)\n",
        "b = rhs_constraints(demand,num_cities)\n",
        "\n",
        "weights = np.zeros((num_cities, num_cities))\n",
        "\n",
        "for i in range(num_cities):\n",
        "  j= i+1\n",
        "  while (j<num_cities):\n",
        "    temp = random.randint(1, num_cities*5)\n",
        "    weights[i][j] = temp\n",
        "    weights[j][i] = temp\n",
        "    j = j+1\n",
        "\n",
        "weights = np.array([[0., 10., 34., 28.,  9., 19., 27.],\n",
        " [10.,  0., 23., 10., 32., 20., 15.],\n",
        " [34., 23.,  0., 22.,  7., 18.,  9.],\n",
        " [28., 10., 22.,  0., 25., 31.,  8.],\n",
        " [ 9., 32.,  7., 25.,  0., 10., 27.],\n",
        " [19., 20., 18., 31., 10.,  0., 25.],\n",
        " [27., 15.,  9.,  8., 27., 25.,  0.]])\n",
        "\n",
        "c = np.asarray(weights.flatten())\n",
        "\n",
        "total = 0\n",
        "start_time = time.time()\n",
        "node = bab(A,b,c,[],float('inf'),'min')\n",
        "total = (total + time.time() - start_time)*1000\n",
        "if node == None:\n",
        "  print(\"No feasible integer solution exists\")\n",
        "else:\n",
        "  print(\"\\nFinal Optimal solution(Integer): \")\n",
        "  opt_x = node.flow_var\n",
        "  print(\"\\tFlow variables: \",opt_x)\n",
        "  opt_val = abs(np.dot(c, np.transpose(node.flow_var)))\n",
        "  print(\"\\tObjective function value: \",opt_val)\n",
        "  print(\"\\nRunning time of branch and bound algorithm: %s ms\\n\" % total)\n",
        "\n",
        "  opt_x = np.array(opt_x)\n",
        "  opt_x = opt_x.reshape((num_cities, num_cities))\n",
        "  plot(num_cities,weights,opt_x)\n",
        "\n"
      ],
      "execution_count": null,
      "outputs": [
        {
          "output_type": "stream",
          "text": [
            "/usr/local/lib/python3.7/dist-packages/numpy/core/fromnumeric.py:87: VisibleDeprecationWarning: Creating an ndarray from ragged nested sequences (which is a list-or-tuple of lists-or-tuples-or ndarrays with different lengths or shapes) is deprecated. If you meant to do this, you must specify 'dtype=object' when creating the ndarray\n",
            "  return ufunc.reduce(obj, axis, dtype, out, **passkwargs)\n",
            "/usr/local/lib/python3.7/dist-packages/ipykernel_launcher.py:12: OptimizeWarning: Solving system with option 'cholesky':True failed. It is normal for this to happen occasionally, especially as the solution is approached. However, if you see this frequently, consider setting option 'cholesky' to False.\n",
            "  if sys.path[0] == '':\n",
            "/usr/local/lib/python3.7/dist-packages/ipykernel_launcher.py:12: OptimizeWarning: Solving system with option 'sym_pos':True failed. It is normal for this to happen occasionally, especially as the solution is approached. However, if you see this frequently, consider setting option 'sym_pos' to False.\n",
            "  if sys.path[0] == '':\n",
            "/usr/local/lib/python3.7/dist-packages/scipy/optimize/_linprog_ip.py:110: LinAlgWarning: Ill-conditioned matrix (rcond=1.09019e-18): result may not be accurate.\n",
            "  return sp.linalg.solve(M, r, sym_pos=sym_pos)\n",
            "/usr/local/lib/python3.7/dist-packages/ipykernel_launcher.py:30: DeprecationWarning: elementwise comparison failed; this will raise an error in the future.\n",
            "/usr/local/lib/python3.7/dist-packages/ipykernel_launcher.py:12: OptimizeWarning: Solving system with option 'sym_pos':False failed. This may happen occasionally, especially as the solution is approached. However, if you see this frequently, your problem may be numerically challenging. If you cannot improve the formulation, consider setting 'lstsq' to True. Consider also setting `presolve` to True, if it is not already.\n",
            "  if sys.path[0] == '':\n",
            "/usr/local/lib/python3.7/dist-packages/scipy/optimize/_linprog_ip.py:110: LinAlgWarning: Ill-conditioned matrix (rcond=2.98441e-55): result may not be accurate.\n",
            "  return sp.linalg.solve(M, r, sym_pos=sym_pos)\n"
          ],
          "name": "stderr"
        },
        {
          "output_type": "stream",
          "text": [
            "\n",
            "Final Optimal solution(Integer): \n",
            "\tFlow variables:  [0. 3. 0. 0. 3. 0. 0. 0. 0. 0. 1. 0. 0. 1. 0. 0. 0. 0. 0. 0. 0. 0. 0. 0.\n",
            " 0. 0. 0. 0. 0. 0. 1. 0. 0. 1. 0. 0. 0. 0. 0. 0. 0. 0. 0. 0. 0. 0. 0. 0.\n",
            " 0.]\n",
            "\tObjective function value:  99.0\n",
            "\n",
            "Running time of branch and bound algorithm: 365.1692867279053 ms\n",
            "\n"
          ],
          "name": "stdout"
        },
        {
          "output_type": "display_data",
          "data": {
            "image/png": "[encoded data removed]",
            "text/plain": [
              "<Figure size 432x288 with 1 Axes>"
            ]
          },
          "metadata": {
            "tags": []
          }
        }
      ]
    },
    {
      "cell_type": "code",
      "metadata": {
        "colab": {
          "base_uri": "https://localhost:8080/",
          "height": 481
        },
        "id": "Hd6fTCbEg9Be",
        "outputId": "ccf3fb18-64d0-4407-f14d-7baea7595f0e"
      },
      "source": [
        "num_cities = 8\n",
        "coordinates = np.random.rand(num_cities,2)\n",
        "demand = [num_cities-1]\n",
        "for i in range(num_cities-1):\n",
        "  demand.append(-1)\n",
        "demand = np.array(demand)\n",
        "p1 = network_top(num_cities,coordinates,demand)\n",
        "\n",
        "A = lhs_constraints(num_cities)\n",
        "b = rhs_constraints(demand,num_cities)\n",
        "\n",
        "weights = np.zeros((num_cities, num_cities))\n",
        "\n",
        "for i in range(num_cities):\n",
        "  j= i+1\n",
        "  while (j<num_cities):\n",
        "    temp = random.randint(1, num_cities*5)\n",
        "    weights[i][j] = temp\n",
        "    weights[j][i] = temp\n",
        "    j = j+1\n",
        "\n",
        "weights = np.array([[ 0., 35.,  9., 39., 21., 23., 19.,  5.],\n",
        " \t\t\t\t\t[35.,  0., 29., 40., 13., 37., 40., 36.],\n",
        " \t\t\t\t\t[ 9., 29.,  0., 22.,  4., 11., 38.,  6.],\n",
        " \t\t\t\t\t[39., 40., 22.,  0., 31.,  8., 34., 11.],\n",
        " \t\t\t\t\t[21., 13.,  4., 31.,  0., 21.,  1., 14.],\n",
        " \t\t\t\t\t[23., 37., 11.,  8., 21.,  0., 29., 20.],\n",
        " \t\t\t\t\t[19., 40., 38., 34.,  1., 29.,  0.,  2.],\n",
        " \t\t\t\t\t[ 5., 36.,  6., 11., 14., 20.,  2.,  0.]])\n",
        "\n",
        "c = np.asarray(weights.flatten())\n",
        "\n",
        "total = 0\n",
        "start_time = time.time()\n",
        "node = bab(A,b,c,[],float('inf'),'min')\n",
        "total = (total + time.time() - start_time)*1000\n",
        "if node == None:\n",
        "  print(\"No feasible integer solution exists\")\n",
        "else:\n",
        "  print(\"\\nFinal Optimal solution(Integer): \")\n",
        "  opt_x = node.flow_var\n",
        "  print(\"\\tFlow variables: \",opt_x)\n",
        "  opt_val = abs(np.dot(c, np.transpose(node.flow_var)))\n",
        "  print(\"\\tObjective function value: \",opt_val)\n",
        "  print(\"\\nRunning time of branch and bound algorithm: %s ms\\n\" % total)\n",
        "\n",
        "  opt_x = np.array(opt_x)\n",
        "  opt_x = opt_x.reshape((num_cities, num_cities))\n",
        "  plot(num_cities,weights,opt_x)"
      ],
      "execution_count": null,
      "outputs": [
        {
          "output_type": "stream",
          "text": [
            "/usr/local/lib/python3.7/dist-packages/numpy/core/fromnumeric.py:87: VisibleDeprecationWarning: Creating an ndarray from ragged nested sequences (which is a list-or-tuple of lists-or-tuples-or ndarrays with different lengths or shapes) is deprecated. If you meant to do this, you must specify 'dtype=object' when creating the ndarray\n",
            "  return ufunc.reduce(obj, axis, dtype, out, **passkwargs)\n",
            "/usr/local/lib/python3.7/dist-packages/ipykernel_launcher.py:30: DeprecationWarning: elementwise comparison failed; this will raise an error in the future.\n"
          ],
          "name": "stderr"
        },
        {
          "output_type": "stream",
          "text": [
            "\n",
            "Final Optimal solution(Integer): \n",
            "\tFlow variables:  [0. 0. 2. 0. 0. 0. 0. 5. 0. 0. 0. 0. 0. 0. 0. 0. 0. 0. 0. 0. 0. 1. 0. 0.\n",
            " 0. 0. 0. 0. 0. 0. 0. 0. 0. 1. 0. 0. 0. 0. 0. 0. 0. 0. 0. 0. 0. 0. 0. 0.\n",
            " 0. 0. 0. 0. 2. 0. 0. 0. 0. 0. 0. 1. 0. 0. 3. 0.]\n",
            "\tObjective function value:  86.0\n",
            "\n",
            "Running time of branch and bound algorithm: 16.971826553344727 ms\n",
            "\n"
          ],
          "name": "stdout"
        },
        {
          "output_type": "display_data",
          "data": {
            "image/png": "[encoded data removed]",
            "text/plain": [
              "<Figure size 432x288 with 1 Axes>"
            ]
          },
          "metadata": {
            "tags": []
          }
        }
      ]
    },
    {
      "cell_type": "code",
      "metadata": {
        "colab": {
          "base_uri": "https://localhost:8080/",
          "height": 677
        },
        "id": "XU2HD7iAh3FB",
        "outputId": "6c3a6544-f68f-477d-8d3e-eccfb66cd9c2"
      },
      "source": [
        "num_cities = 9\n",
        "coordinates = np.random.rand(num_cities,2)\n",
        "demand = [num_cities-1]\n",
        "for i in range(num_cities-1):\n",
        "  demand.append(-1)\n",
        "demand = np.array(demand)\n",
        "p1 = network_top(num_cities,coordinates,demand)\n",
        "\n",
        "A = lhs_constraints(num_cities)\n",
        "b = rhs_constraints(demand,num_cities)\n",
        "\n",
        "weights = np.zeros((num_cities, num_cities))\n",
        "\n",
        "for i in range(num_cities):\n",
        "  j= i+1\n",
        "  while (j<num_cities):\n",
        "    temp = random.randint(1, num_cities*5)\n",
        "    weights[i][j] = temp\n",
        "    weights[j][i] = temp\n",
        "    j = j+1\n",
        "\n",
        "weights = np.array([[ 0., 24., 27., 42., 12., 30.,  2., 40., 16.],\n",
        " \t\t\t\t\t[24.,  0., 17., 39., 45., 26., 39., 24., 41.],\n",
        " \t\t\t\t\t[27., 17.,  0., 41., 18., 30., 20., 17., 23.],\n",
        " \t\t\t\t\t[42., 39., 41.,  0., 29., 40., 11., 20.,  3.],\n",
        " \t\t\t\t\t[12., 45., 18., 29.,  0.,  8., 36., 27., 45.],\n",
        " \t\t\t\t\t[30., 26., 30., 40.,  8.,  0.,  1., 35., 44.],\n",
        " \t\t\t\t\t[ 2., 39., 20., 11., 36.,  1., 0. ,40. ,20.],\n",
        " \t\t\t\t\t[40., 24., 17., 20., 27., 35., 40.,  0. ,19.],\n",
        " \t\t\t\t\t[16., 41., 23.,  3., 45., 44., 20., 19.  ,0.]])\n",
        "\n",
        "c = np.asarray(weights.flatten())\n",
        "\n",
        "total = 0\n",
        "start_time = time.time()\n",
        "node = bab(A,b,c,[],float('inf'),'min')\n",
        "total = (total + time.time() - start_time)*1000\n",
        "if node == None:\n",
        "  print(\"No feasible integer solution exists\")\n",
        "else:\n",
        "  print(\"\\nFinal Optimal solution(Integer): \")\n",
        "  opt_x = node.flow_var\n",
        "  print(\"\\tFlow variables: \",opt_x)\n",
        "  opt_val = abs(np.dot(c, np.transpose(node.flow_var)))\n",
        "  print(\"\\tObjective function value: \",opt_val)\n",
        "  print(\"\\nRunning time of branch and bound algorithm: %s ms\\n\" % total)\n",
        "\n",
        "  opt_x = np.array(opt_x)\n",
        "  opt_x = opt_x.reshape((num_cities, num_cities))\n",
        "  plot(num_cities,weights,opt_x)"
      ],
      "execution_count": null,
      "outputs": [
        {
          "output_type": "stream",
          "text": [
            "/usr/local/lib/python3.7/dist-packages/numpy/core/fromnumeric.py:87: VisibleDeprecationWarning: Creating an ndarray from ragged nested sequences (which is a list-or-tuple of lists-or-tuples-or ndarrays with different lengths or shapes) is deprecated. If you meant to do this, you must specify 'dtype=object' when creating the ndarray\n",
            "  return ufunc.reduce(obj, axis, dtype, out, **passkwargs)\n",
            "/usr/local/lib/python3.7/dist-packages/ipykernel_launcher.py:30: DeprecationWarning: elementwise comparison failed; this will raise an error in the future.\n",
            "/usr/local/lib/python3.7/dist-packages/ipykernel_launcher.py:12: OptimizeWarning: Solving system with option 'cholesky':True failed. It is normal for this to happen occasionally, especially as the solution is approached. However, if you see this frequently, consider setting option 'cholesky' to False.\n",
            "  if sys.path[0] == '':\n",
            "/usr/local/lib/python3.7/dist-packages/ipykernel_launcher.py:12: OptimizeWarning: Solving system with option 'sym_pos':True failed. It is normal for this to happen occasionally, especially as the solution is approached. However, if you see this frequently, consider setting option 'sym_pos' to False.\n",
            "  if sys.path[0] == '':\n",
            "/usr/local/lib/python3.7/dist-packages/ipykernel_launcher.py:12: OptimizeWarning: Solving system with option 'sym_pos':False failed. This may happen occasionally, especially as the solution is approached. However, if you see this frequently, your problem may be numerically challenging. If you cannot improve the formulation, consider setting 'lstsq' to True. Consider also setting `presolve` to True, if it is not already.\n",
            "  if sys.path[0] == '':\n",
            "/usr/local/lib/python3.7/dist-packages/scipy/optimize/_linprog_ip.py:110: LinAlgWarning: Ill-conditioned matrix (rcond=3.42646e-66): result may not be accurate.\n",
            "  return sp.linalg.solve(M, r, sym_pos=sym_pos)\n",
            "/usr/local/lib/python3.7/dist-packages/scipy/optimize/_linprog_ip.py:110: LinAlgWarning: Ill-conditioned matrix (rcond=1.37476e-71): result may not be accurate.\n",
            "  return sp.linalg.solve(M, r, sym_pos=sym_pos)\n"
          ],
          "name": "stderr"
        },
        {
          "output_type": "stream",
          "text": [
            "\n",
            "Final Optimal solution(Integer): \n",
            "\tFlow variables:  [0. 1. 0. 0. 0. 0. 6. 0. 1. 0. 0. 0. 0. 0. 0. 0. 0. 0. 0. 0. 0. 0. 0. 0.\n",
            " 0. 0. 0. 0. 0. 0. 0. 0. 0. 0. 1. 0. 0. 0. 0. 0. 0. 0. 0. 0. 0. 0. 0. 0.\n",
            " 0. 1. 0. 0. 0. 0. 0. 0. 1. 2. 0. 2. 0. 0. 0. 0. 0. 0. 0. 0. 0. 0. 0. 0.\n",
            " 0. 0. 0. 0. 0. 0. 0. 0. 0.]\n",
            "\tObjective function value:  124.0\n",
            "\n",
            "Running time of branch and bound algorithm: 98.63042831420898 ms\n",
            "\n"
          ],
          "name": "stdout"
        },
        {
          "output_type": "display_data",
          "data": {
            "image/png": "[encoded data removed]",
            "text/plain": [
              "<Figure size 432x288 with 1 Axes>"
            ]
          },
          "metadata": {
            "tags": []
          }
        }
      ]
    },
    {
      "cell_type": "code",
      "metadata": {
        "colab": {
          "base_uri": "https://localhost:8080/",
          "height": 659
        },
        "id": "FleltrVFRPaZ",
        "outputId": "c055c984-f094-4cdc-f926-bba1ac1d96d1"
      },
      "source": [
        "num_cities = 10\n",
        "coordinates = np.random.rand(num_cities,2)\n",
        "demand = [num_cities-1]\n",
        "for i in range(num_cities-1):\n",
        "  demand.append(-1)\n",
        "demand = np.array(demand)\n",
        "p1 = network_top(num_cities,coordinates,demand)\n",
        "\n",
        "A = lhs_constraints(num_cities)\n",
        "b = rhs_constraints(demand,num_cities)\n",
        "\n",
        "weights = np.zeros((num_cities, num_cities))\n",
        "\n",
        "for i in range(num_cities):\n",
        "  j= i+1\n",
        "  while (j<num_cities):\n",
        "    temp = random.randint(1, num_cities*5)\n",
        "    weights[i][j] = temp\n",
        "    weights[j][i] = temp\n",
        "    j = j+1\n",
        "#print(weights)\n",
        "weights = np.array([[ 0. , 2., 34., 12., 48., 20., 40. , 7., 46., 33.],\n",
        " \t\t\t\t\t[ 2.,  0., 42.,  2., 41., 31., 18., 50., 26., 10.],\n",
        " \t\t\t\t\t[34., 42.,  0., 48., 26., 18., 15., 44., 20., 32.],\n",
        " \t\t\t\t\t[12.,  2. ,48.,  0.,  3., 32., 31., 44., 16., 28.],\n",
        " \t\t\t\t\t[48., 41., 26.,  3.,  0., 28., 26., 23., 42., 33.],\n",
        " \t\t\t\t\t[20., 31., 18., 32., 28.,  0., 22., 26., 45., 40.],\n",
        " \t\t\t\t\t[40., 18., 15., 31., 26., 22.,  0., 27.,  1., 46.],\n",
        " \t\t\t\t\t[ 7., 50., 44., 44., 23., 26., 27.,  0., 20., 23.],\n",
        " \t\t\t\t\t[46., 26., 20., 16., 42., 45.,  1., 20.,  0., 16.],\n",
        " \t\t\t\t\t[33., 10., 32., 28., 33., 40., 46., 23., 16.,  0.]])\n",
        "c = np.asarray(weights.flatten())\n",
        "\n",
        "total = 0\n",
        "start_time = time.time()\n",
        "node = bab(A,b,c,[],float('inf'),'min')\n",
        "total = (total + time.time() - start_time)*1000\n",
        "if node == None:\n",
        "  print(\"No feasible integer solution exists\")\n",
        "else:\n",
        "  print(\"\\nFinal Optimal solution(Integer): \")\n",
        "  opt_x = node.flow_var\n",
        "  print(\"\\tFlow variables: \",opt_x)\n",
        "  opt_val = abs(np.dot(c, np.transpose(node.flow_var)))\n",
        "  print(\"\\tObjective function value: \",opt_val)\n",
        "  print(\"\\nRunning time of branch and bound algorithm: %s ms\\n\" % total)\n",
        "\n",
        "  opt_x = np.array(opt_x)\n",
        "  opt_x = opt_x.reshape((num_cities, num_cities))\n",
        "  plot(num_cities,weights,opt_x)\n"
      ],
      "execution_count": null,
      "outputs": [
        {
          "output_type": "stream",
          "text": [
            "/usr/local/lib/python3.7/dist-packages/numpy/core/fromnumeric.py:87: VisibleDeprecationWarning: Creating an ndarray from ragged nested sequences (which is a list-or-tuple of lists-or-tuples-or ndarrays with different lengths or shapes) is deprecated. If you meant to do this, you must specify 'dtype=object' when creating the ndarray\n",
            "  return ufunc.reduce(obj, axis, dtype, out, **passkwargs)\n",
            "/usr/local/lib/python3.7/dist-packages/ipykernel_launcher.py:12: OptimizeWarning: Solving system with option 'cholesky':True failed. It is normal for this to happen occasionally, especially as the solution is approached. However, if you see this frequently, consider setting option 'cholesky' to False.\n",
            "  if sys.path[0] == '':\n",
            "/usr/local/lib/python3.7/dist-packages/ipykernel_launcher.py:12: OptimizeWarning: Solving system with option 'sym_pos':True failed. It is normal for this to happen occasionally, especially as the solution is approached. However, if you see this frequently, consider setting option 'sym_pos' to False.\n",
            "  if sys.path[0] == '':\n",
            "/usr/local/lib/python3.7/dist-packages/scipy/optimize/_linprog_ip.py:110: LinAlgWarning: Ill-conditioned matrix (rcond=3.36757e-22): result may not be accurate.\n",
            "  return sp.linalg.solve(M, r, sym_pos=sym_pos)\n",
            "/usr/local/lib/python3.7/dist-packages/ipykernel_launcher.py:12: OptimizeWarning: Solving system with option 'sym_pos':False failed. This may happen occasionally, especially as the solution is approached. However, if you see this frequently, your problem may be numerically challenging. If you cannot improve the formulation, consider setting 'lstsq' to True. Consider also setting `presolve` to True, if it is not already.\n",
            "  if sys.path[0] == '':\n",
            "/usr/local/lib/python3.7/dist-packages/ipykernel_launcher.py:30: DeprecationWarning: elementwise comparison failed; this will raise an error in the future.\n"
          ],
          "name": "stderr"
        },
        {
          "output_type": "stream",
          "text": [
            "\n",
            "Final Optimal solution(Integer): \n",
            "\tFlow variables:  [0. 7. 0. 0. 0. 1. 0. 1. 0. 0. 0. 0. 0. 4. 0. 0. 1. 0. 0. 1. 0. 0. 0. 0.\n",
            " 0. 0. 0. 0. 0. 0. 0. 0. 0. 0. 2. 0. 0. 0. 1. 0. 0. 0. 1. 0. 0. 0. 0. 0.\n",
            " 0. 0. 0. 0. 0. 0. 0. 0. 0. 0. 0. 0. 0. 0. 0. 0. 0. 0. 0. 0. 0. 0. 0. 0.\n",
            " 0. 0. 0. 0. 0. 0. 0. 0. 0. 0. 0. 0. 0. 0. 0. 0. 0. 0. 0. 0. 0. 0. 0. 0.\n",
            " 0. 0. 0. 0.]\n",
            "\tObjective function value:  125.0\n",
            "\n",
            "Running time of branch and bound algorithm: 120.48697471618652 ms\n",
            "\n"
          ],
          "name": "stdout"
        },
        {
          "output_type": "display_data",
          "data": {
            "image/png": "[encoded data removed]",
            "text/plain": [
              "<Figure size 432x288 with 1 Axes>"
            ]
          },
          "metadata": {
            "tags": []
          }
        }
      ]
    }
  ]
}