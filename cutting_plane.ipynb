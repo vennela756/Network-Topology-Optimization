{
  "nbformat": 4,
  "nbformat_minor": 0,
  "metadata": {
    "colab": {
      "name": "cutting_plane.ipynb",
      "provenance": [],
      "collapsed_sections": []
    },
    "kernelspec": {
      "name": "python3",
      "display_name": "Python 3"
    },
    "language_info": {
      "name": "python"
    }
  },
  "cells": [
    {
      "cell_type": "code",
      "metadata": {
        "id": "BkvP6zWSC9cA"
      },
      "source": [
        "import numpy as np\n",
        "import math\n",
        "from scipy.optimize import linprog"
      ],
      "execution_count": null,
      "outputs": []
    },
    {
      "cell_type": "code",
      "metadata": {
        "id": "7MgUL3HbGkbq"
      },
      "source": [
        "class network_top:\n",
        "  def __init__(self, num_cities,coordinates,b_vec):\n",
        "    self.num_cities = num_cities\n",
        "    self.coordinates = coordinates\n",
        "    self.b_vec=b_vec\n",
        "    self.distances()\n",
        "  def distances(self):\n",
        "    cij_mat=np.zeros((self.num_cities,self.num_cities))\n",
        "    for i in range(self.num_cities):\n",
        "      for j in range(self.num_cities):\n",
        "        cij_mat[i,j]=np.sqrt((self.coordinates[i,0]-self.coordinates[j,0])**2+(self.coordinates[i,0]-self.coordinates[j,0])**2)\n",
        "    self.cij=cij_mat ## "
      ],
      "execution_count": null,
      "outputs": []
    },
    {
      "cell_type": "code",
      "metadata": {
        "id": "BVg77f2fFECn"
      },
      "source": [
        "def constr(n):\n",
        "  #ny=ncr(n,2)\n",
        "  a = []\n",
        "  ### 0 < flow i,j < n-1 ###\n",
        "  for i in range(n):\n",
        "       for j in range(n):\n",
        "          # ineqn_mat=np.zeros((n,n))\n",
        "          # ineqn_mat[i,j]=-1\n",
        "          # constr=ineqn_mat.flatten()\n",
        "          # constr1=constr.tolist()\n",
        "          # a.append(constr1)\n",
        "          \n",
        "          ineqn_mat=np.zeros((n,n))\n",
        "          ineqn_mat[i,j]=1\n",
        "          constr=ineqn_mat.flatten()\n",
        "          a.append(constr)\n",
        "    # x = np.reshape(a,[len(a),len(a[0])])\n",
        "    # print(x)\n",
        "  # print(len(a),len(a[0]))\n",
        "  \n",
        "  ##  sigma flow i,j - sigma flow j,i <= bi\n",
        "  for i in range(n):\n",
        "    eq_mat = np.zeros((n,n))\n",
        "    eq_mat[:,i] = -1*np.ones(n)\n",
        "    eq_mat[i,:] = np.ones(n)\n",
        "    eq_mat[i,i] = 0\n",
        "    # print(eq_mat)\n",
        "    constr=eq_mat.flatten()\n",
        "    constr = constr.tolist()\n",
        "    a.append(constr)\n",
        "  # print(len(a),len(a[0]))\n",
        "  \n",
        "  ##  sigma flow i,j - sigma flow j,i >= bi\n",
        "  for i in range(n):\n",
        "    eq_mat = np.zeros((n,n))\n",
        "    eq_mat[:,i] = np.ones(n)\n",
        "    eq_mat[i,:] = -1*np.ones(n)\n",
        "    eq_mat[i,i] = 0\n",
        "    # print(eq_mat)\n",
        "    constr=eq_mat.flatten()\n",
        "    constr = constr.tolist()\n",
        "    a.append(constr)\n",
        "  # print(len(a),len(a[0]))\n",
        "\n",
        "  ### flow i,i <= 0\n",
        "  for i in range(n):\n",
        "    ineqn_mat=np.zeros((n,n)) \n",
        "    ineqn_mat[i,i]=1\n",
        "    # print(ineqn_mat)\n",
        "    constr2=ineqn_mat.flatten()\n",
        "    constr2 = constr2.tolist()\n",
        "    a.append(constr2)\n",
        "  # print(len(a),len(a[0]))\n",
        "  \n",
        "  # ### flow i,i >= 0\n",
        "  # for i in range(n):\n",
        "  #   ineqn_mat=np.zeros((n,n)) \n",
        "  #   ineqn_mat[i,i]=-1\n",
        "  #   # print(ineqn_mat)\n",
        "  #   constr2=ineqn_mat.flatten()\n",
        "  #   constr2 = constr2.tolist()\n",
        "  #   a.append(constr2)\n",
        "  # # print(len(a),len(a[0]))\n",
        "  # # x = np.reshape(a,(len(a),len(a[0])))\n",
        "\n",
        "  x = np.asarray(a)\n",
        "  # for i in x:\n",
        "  #   print(i)\n",
        "  return x"
      ],
      "execution_count": null,
      "outputs": []
    },
    {
      "cell_type": "code",
      "metadata": {
        "id": "veZkcvxFEuMp"
      },
      "source": [
        "def rhs_ineq(demand,n):\n",
        "  b = []\n",
        "  ###\n",
        "  for i in range(n*n):\n",
        "    # b.append(0)\n",
        "    b.append(n-1)\n",
        "  # for i in range(n*n):\n",
        "    \n",
        "  \n",
        "  for i in demand:\n",
        "    b.append(i)\n",
        "  ###\n",
        "  for i in demand:\n",
        "    b.append(-i)\n",
        "\n",
        "  for i in range(int(n)):\n",
        "    b.append(0)\n",
        "  \n",
        "  # for i in range(n*(n-1)/2):\n",
        "    # b.append(0)\n",
        "  x = np.asarray(b)\n",
        "  return x"
      ],
      "execution_count": null,
      "outputs": []
    },
    {
      "cell_type": "code",
      "metadata": {
        "colab": {
          "base_uri": "https://localhost:8080/"
        },
        "id": "dNGzNpg2Ev5M",
        "outputId": "2c39ea83-4916-4528-eb20-95863e582092"
      },
      "source": [
        "if __name__ == \"__main__\":\n",
        "\n",
        "    # coordinates = np.array([[39.0437192, -77.4874898],[33.7490987,-84.3901848],[30.2711286, -97.7436994], [43.61656,-116.2008349],[42.3604823, -71.0595677],[41.8755546, -87.6244211]]);\n",
        "    # demand = np.array([ 5, -1, -1, -1, -1, -1])\n",
        "    # p1 = network_top(6,coordinates,demand)\n",
        "    # A = constr(6)\n",
        "    # b = np.array(rhs_ineq(demand,6))\n",
        "    # c = np.asarray(p1.cij.flatten())\n",
        "    # print(A)\n",
        "    # print(b)\n",
        "    # print(c)\n",
        "\n",
        "    # coordinates = np.array([[39.0437192, -77.4874898],[33.7490987,-84.3901848],[30.2711286, -97.7436994]])# [43.61656,-116.2008349],[42.3604823, -71.0595677],[41.8755546, -87.6244211]]);\n",
        "    # demand = np.array([ 2, -1, -1])#, -1, -1, -1])\n",
        "    # p1 = network_top(3,coordinates,demand)\n",
        "    # A = constr(3)\n",
        "    # b = np.array(rhs_ineq(demand,3))\n",
        "    # c = np.asarray(p1.cij.flatten())\n",
        "    # soln = [0. 2. 0. 0. 0. 1. 0. 0. 0.], opt_val = 19.89404072238534 - minimisation\n",
        "\n",
        "    # A = np.array([[8000, 4000], [15, 30], [-1, 0], [0, -1]])\n",
        "    # b = np.array([40000, 200, 0, 0])\n",
        "    # c = np.array([100, 150])\n",
        "\n",
        "\n",
        "    # ------------------\n",
        "    # A = np.array([[2,20,4,1,0,0], [6,20,4,0,1,0], [-6, -20, -4,0,0,1]])\n",
        "    # b = np.array([15, 20, -20])\n",
        "    # c = np.array([20, 10, 10,0,0,0])\n",
        "    # # soln = [2. 0. 2.]\n",
        "    #, opt_val = 60.0 - maximisation\n",
        "    \n",
        "    A = np.array([[-1,3,1,0],[7,1,0,1]])\n",
        "    b = np.array([6,35])\n",
        "    c = np.array([7,9,0,0])\n",
        "\n",
        "\n",
        "    # A = np.array([[5,7,4,3], [1,0,0,0], [0,1,0,0], [0,0,1,0], [0,0,0,1], [-1,0,0,0], [0,-1,0,0], [0,0,-1,0], [0,0,0,-1]])\n",
        "    # b = np.array([14,1,1,1,1,0,0,0,0])\n",
        "    # c = np.array([8,11,6,4])  \n",
        "    # soln = [0. 1. 1. 1.], opt_val = 21.0 - maximisation\n",
        "\n",
        "    #A = np.array([[35000,10000,25000,90000], [4,2,7,3], [1,1,0,0], [1, 0,0,0],[0,1,0,0],[0,0,1,0],[0,0,0,1]  ,[-1, 0,0,0],[0,-1,0,0],[0,0,-1,0],[0,0,0,-1]])\n",
        "    #b = np.array([120000, 12, 1, 1,1,1,1 ,0,0,0,0])\n",
        "    #c = np.array([300,90,400,150])\n",
        "    # soln = [1. 0. 1. 0.], opt_val = 700.0 - maximisation\n",
        "\n",
        "    #A = np.array([[2,1,0], [1,2,-2], [0,1,2]])\n",
        "    #b = np.array([10,20,5])\n",
        "    #c = np.array([2,-1,2]) \n",
        "    # soln = [5. 0. 2.], opt_val = 14.0 - maximisation \n",
        "\n",
        "    #c = np.array([2,3,1,2])\n",
        "    #A = np.array([[5,2,1,1],[2,6,10,8],[1,1,1,1],[2,2,3,3],[1,0,0,0],[0,1,0,0],[0,0,1,0],[0,0,0,1], [0,0,0,-1]])\n",
        "    #b = np.array([15,60,8,16,3,7,5,5,-6])\n",
        "    # soln = [0. 7. 0. 0.], opt_val = 21.0 - maximisation\n",
        "    # conflicting constraints - No feasible integer solution exists\n",
        "\n",
        "    def cp(A,b,c,min_or_max,num_var):\n",
        "      opt = []\n",
        "      rhs = opt[:-1,-1]\n",
        "      non_int_index = np.where(rhs%1 != 0)[0][0]\n",
        "      row = table[non_int_index,:]\n",
        "\n",
        "\n",
        "    cp(A,b,c,'max')\n",
        "\n",
        "\n"
      ],
      "execution_count": null,
      "outputs": [
        {
          "output_type": "stream",
          "text": [
            "[4.50000000e+00 3.50000000e+00 9.90540727e-12 1.27691678e-13] -62.99999999932806 Optimization terminated successfully.\n"
          ],
          "name": "stdout"
        },
        {
          "output_type": "stream",
          "text": [
            "/usr/local/lib/python3.7/dist-packages/numpy/core/fromnumeric.py:87: VisibleDeprecationWarning: Creating an ndarray from ragged nested sequences (which is a list-or-tuple of lists-or-tuples-or ndarrays with different lengths or shapes) is deprecated. If you meant to do this, you must specify 'dtype=object' when creating the ndarray\n",
            "  return ufunc.reduce(obj, axis, dtype, out, **passkwargs)\n"
          ],
          "name": "stderr"
        }
      ]
    }
  ]
}